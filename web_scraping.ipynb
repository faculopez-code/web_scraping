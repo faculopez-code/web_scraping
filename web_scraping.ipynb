{
 "cells": [
  {
   "cell_type": "markdown",
   "metadata": {},
   "source": [
    "## Hola! soy Facundo y voy a extraer datos de una pagina web con python"
   ]
  },
  {
   "cell_type": "markdown",
   "metadata": {},
   "source": [
    "Este procedimiento es muuuy parecido para diferentes páginas, por esto mismo me gusta compartirlo."
   ]
  },
  {
   "cell_type": "code",
   "execution_count": 1,
   "metadata": {},
   "outputs": [],
   "source": [
    "from selenium import webdriver\n",
    "from bs4 import BeautifulSoup as bs\n",
    "import pandas as pd"
   ]
  },
  {
   "cell_type": "markdown",
   "metadata": {},
   "source": [
    "abrimos WebDriver"
   ]
  },
  {
   "cell_type": "code",
   "execution_count": 2,
   "metadata": {},
   "outputs": [
    {
     "name": "stderr",
     "output_type": "stream",
     "text": [
      "C:\\Users\\lopez\\AppData\\Local\\Temp\\ipykernel_12852\\2889328839.py:1: DeprecationWarning: executable_path has been deprecated, please pass in a Service object\n",
      "  driver = webdriver.Edge(\"C:/msedgedriver.exe\")\n"
     ]
    }
   ],
   "source": [
    "driver = webdriver.Edge(\"C:/msedgedriver.exe\")"
   ]
  },
  {
   "cell_type": "markdown",
   "metadata": {},
   "source": [
    "Variables para guardar datos"
   ]
  },
  {
   "cell_type": "code",
   "execution_count": 12,
   "metadata": {},
   "outputs": [],
   "source": [
    "m2sucio = []\n",
    "precioSucio = []\n",
    "ubicacionSucio = []"
   ]
  },
  {
   "cell_type": "markdown",
   "metadata": {},
   "source": [
    "Variables limpias"
   ]
  },
  {
   "cell_type": "code",
   "execution_count": 20,
   "metadata": {},
   "outputs": [],
   "source": [
    "m2 = []\n",
    "precio = []\n",
    "ubicacion = []"
   ]
  },
  {
   "cell_type": "markdown",
   "metadata": {},
   "source": [
    "Buscamos alguna pagina que nos interese"
   ]
  },
  {
   "cell_type": "code",
   "execution_count": 5,
   "metadata": {},
   "outputs": [],
   "source": [
    "driver.get(\"https://www.inmuebles24.com/terrenos-en-venta-en-fraccionamiento-bugambilias.html\")"
   ]
  },
  {
   "cell_type": "markdown",
   "metadata": {},
   "source": [
    "Extracción de datos"
   ]
  },
  {
   "cell_type": "code",
   "execution_count": 6,
   "metadata": {},
   "outputs": [],
   "source": [
    "contenido = driver.page_source"
   ]
  },
  {
   "cell_type": "markdown",
   "metadata": {},
   "source": [
    "Pasamos los datos a HTML con beautifulSoup"
   ]
  },
  {
   "cell_type": "code",
   "execution_count": 8,
   "metadata": {},
   "outputs": [],
   "source": [
    "soup = bs(contenido)"
   ]
  },
  {
   "cell_type": "markdown",
   "metadata": {},
   "source": [
    "Filtramos un poco la web"
   ]
  },
  {
   "cell_type": "code",
   "execution_count": null,
   "metadata": {},
   "outputs": [],
   "source": [
    "soup.find_all(\"div\", attrs={\"class\":\"sc-i1odl-2 gIHCpf\"})\n"
   ]
  },
  {
   "cell_type": "markdown",
   "metadata": {},
   "source": [
    "Aqui extraemos ciertos datos especificos para guardarlos en las variables"
   ]
  },
  {
   "cell_type": "code",
   "execution_count": 13,
   "metadata": {},
   "outputs": [],
   "source": [
    "for tarjeta in soup.find_all(\"div\", attrs={\"class\":\"sc-i1odl-2 gIHCpf\"}):\n",
    "    buscar_area = tarjeta.find(\"div\", attrs={\"data-qa\":\"POSTING_CARD_FEATURES\"})\n",
    "    m2sucio.append(buscar_area.text)\n",
    "\n",
    "    buscar_precio = tarjeta.find(\"div\", attrs={\"data-qa\":\"POSTING_CARD_PRICE\"})\n",
    "    precioSucio.append(buscar_precio.text)\n",
    "\n",
    "    buscar_ubicacion = tarjeta.find(\"div\", attrs={\"class\":\"sc-ge2uzh-0 bzGYzE\"})\n",
    "    ubicacionSucio.append(buscar_ubicacion.text)\n"
   ]
  },
  {
   "cell_type": "markdown",
   "metadata": {},
   "source": [
    "Probamos"
   ]
  },
  {
   "cell_type": "code",
   "execution_count": 14,
   "metadata": {},
   "outputs": [
    {
     "data": {
      "text/plain": [
       "[' 278 m² ',\n",
       " ' 495 m² ',\n",
       " ' 552 m² ',\n",
       " ' 699 m² ',\n",
       " ' 454 m² ',\n",
       " ' 406 m² ',\n",
       " ' 563 m² ',\n",
       " ' 400 m² ',\n",
       " ' 715 m² ',\n",
       " ' 1247 m² ',\n",
       " ' 580 m² ',\n",
       " ' 315 m² ',\n",
       " ' 1050 m² ',\n",
       " ' 452 m² ',\n",
       " ' 398 m² ',\n",
       " ' 411 m² ',\n",
       " ' 720 m² ',\n",
       " ' 440 m² ',\n",
       " ' 1290 m² ',\n",
       " ' 583 m² ']"
      ]
     },
     "execution_count": 14,
     "metadata": {},
     "output_type": "execute_result"
    }
   ],
   "source": [
    "m2sucio"
   ]
  },
  {
   "cell_type": "markdown",
   "metadata": {},
   "source": [
    "Limpieza"
   ]
  },
  {
   "cell_type": "code",
   "execution_count": 22,
   "metadata": {},
   "outputs": [
    {
     "data": {
      "text/plain": [
       "['278',\n",
       " '495',\n",
       " '552',\n",
       " '699',\n",
       " '454',\n",
       " '406',\n",
       " '563',\n",
       " '400',\n",
       " '715',\n",
       " '1247',\n",
       " '580',\n",
       " '315',\n",
       " '1050',\n",
       " '452',\n",
       " '398',\n",
       " '411',\n",
       " '720',\n",
       " '440',\n",
       " '1290',\n",
       " '583']"
      ]
     },
     "execution_count": 22,
     "metadata": {},
     "output_type": "execute_result"
    }
   ],
   "source": [
    "for lista in m2sucio:\n",
    "    m2.append(lista.replace(\" \",\"\").replace(\"m²\",\"\"))\n",
    "m2"
   ]
  },
  {
   "cell_type": "markdown",
   "metadata": {},
   "source": [
    "repetimos para otras variables"
   ]
  },
  {
   "cell_type": "code",
   "execution_count": 15,
   "metadata": {},
   "outputs": [
    {
     "data": {
      "text/plain": [
       "['MN 2,780,000',\n",
       " 'MN 4,699,000',\n",
       " 'MN 4,400,000',\n",
       " 'MN 5,100,000',\n",
       " 'MN 5,700,000',\n",
       " 'MN 4,060,000',\n",
       " 'MN 5,250,000',\n",
       " 'MN 3,600,000',\n",
       " 'MN 5,460,000',\n",
       " 'MN 8,500,000',\n",
       " 'MN 4,350,000',\n",
       " 'MN 3,600,000',\n",
       " 'MN 4,990,000',\n",
       " 'MN 3,840,000',\n",
       " 'MN 3,986,200',\n",
       " 'MN 3,495,000',\n",
       " 'MN 5,980,000',\n",
       " 'MN 3,300,000',\n",
       " 'MN 7,482,000',\n",
       " 'MN 4,372,500']"
      ]
     },
     "execution_count": 15,
     "metadata": {},
     "output_type": "execute_result"
    }
   ],
   "source": [
    "precioSucio"
   ]
  },
  {
   "cell_type": "code",
   "execution_count": 21,
   "metadata": {},
   "outputs": [
    {
     "data": {
      "text/plain": [
       "['2780000',\n",
       " '4699000',\n",
       " '4400000',\n",
       " '5100000',\n",
       " '5700000',\n",
       " '4060000',\n",
       " '5250000',\n",
       " '3600000',\n",
       " '5460000',\n",
       " '8500000',\n",
       " '4350000',\n",
       " '3600000',\n",
       " '4990000',\n",
       " '3840000',\n",
       " '3986200',\n",
       " '3495000',\n",
       " '5980000',\n",
       " '3300000',\n",
       " '7482000',\n",
       " '4372500']"
      ]
     },
     "execution_count": 21,
     "metadata": {},
     "output_type": "execute_result"
    }
   ],
   "source": [
    "for lista in precioSucio:\n",
    "    precio.append(lista.replace(\"MN\",\"\").replace(\",\",\"\").replace(\" \",\"\"))\n",
    "precio"
   ]
  },
  {
   "cell_type": "code",
   "execution_count": 25,
   "metadata": {},
   "outputs": [],
   "source": [
    "ubicacion = ubicacionSucio"
   ]
  },
  {
   "cell_type": "markdown",
   "metadata": {},
   "source": [
    "Teniendo las los datos limpios, ya podemos pasar a Pandas"
   ]
  },
  {
   "cell_type": "code",
   "execution_count": 28,
   "metadata": {},
   "outputs": [],
   "source": [
    "df = pd.DataFrame({\"Ubicacion\":ubicacion,\"Área(m²)\":m2,\"Precio(mx)\":precio})"
   ]
  },
  {
   "cell_type": "code",
   "execution_count": 30,
   "metadata": {},
   "outputs": [
    {
     "data": {
      "text/html": [
       "<div>\n",
       "<style scoped>\n",
       "    .dataframe tbody tr th:only-of-type {\n",
       "        vertical-align: middle;\n",
       "    }\n",
       "\n",
       "    .dataframe tbody tr th {\n",
       "        vertical-align: top;\n",
       "    }\n",
       "\n",
       "    .dataframe thead th {\n",
       "        text-align: right;\n",
       "    }\n",
       "</style>\n",
       "<table border=\"1\" class=\"dataframe\">\n",
       "  <thead>\n",
       "    <tr style=\"text-align: right;\">\n",
       "      <th></th>\n",
       "      <th>Ubicacion</th>\n",
       "      <th>Área(m²)</th>\n",
       "      <th>Precio(mx)</th>\n",
       "    </tr>\n",
       "  </thead>\n",
       "  <tbody>\n",
       "    <tr>\n",
       "      <th>0</th>\n",
       "      <td>VILLA JUAREZ # 1695 LA AVELLANA ZAPOPAN JALISCO</td>\n",
       "      <td>278</td>\n",
       "      <td>2780000</td>\n",
       "    </tr>\n",
       "    <tr>\n",
       "      <th>1</th>\n",
       "      <td>Av. Del Búfalo 418</td>\n",
       "      <td>495</td>\n",
       "      <td>4699000</td>\n",
       "    </tr>\n",
       "    <tr>\n",
       "      <th>2</th>\n",
       "      <td>2da sección, (villas)</td>\n",
       "      <td>552</td>\n",
       "      <td>4400000</td>\n",
       "    </tr>\n",
       "    <tr>\n",
       "      <th>3</th>\n",
       "      <td>Bosques de bugambilias</td>\n",
       "      <td>699</td>\n",
       "      <td>5100000</td>\n",
       "    </tr>\n",
       "    <tr>\n",
       "      <th>4</th>\n",
       "      <td>Av. Azaleas, Coto La Joya</td>\n",
       "      <td>454</td>\n",
       "      <td>5700000</td>\n",
       "    </tr>\n",
       "    <tr>\n",
       "      <th>5</th>\n",
       "      <td></td>\n",
       "      <td>406</td>\n",
       "      <td>4060000</td>\n",
       "    </tr>\n",
       "    <tr>\n",
       "      <th>6</th>\n",
       "      <td>PASEO DEL PUMA 3056</td>\n",
       "      <td>563</td>\n",
       "      <td>5250000</td>\n",
       "    </tr>\n",
       "    <tr>\n",
       "      <th>7</th>\n",
       "      <td>Del Reno Poniente #villas 6 - 19 esq. con Entr...</td>\n",
       "      <td>400</td>\n",
       "      <td>3600000</td>\n",
       "    </tr>\n",
       "    <tr>\n",
       "      <th>8</th>\n",
       "      <td>bugambilias</td>\n",
       "      <td>715</td>\n",
       "      <td>5460000</td>\n",
       "    </tr>\n",
       "    <tr>\n",
       "      <th>9</th>\n",
       "      <td></td>\n",
       "      <td>1247</td>\n",
       "      <td>8500000</td>\n",
       "    </tr>\n",
       "    <tr>\n",
       "      <th>10</th>\n",
       "      <td>Remanso del Coati</td>\n",
       "      <td>580</td>\n",
       "      <td>4350000</td>\n",
       "    </tr>\n",
       "    <tr>\n",
       "      <th>11</th>\n",
       "      <td>Privada Paseo Del Iris</td>\n",
       "      <td>315</td>\n",
       "      <td>3600000</td>\n",
       "    </tr>\n",
       "    <tr>\n",
       "      <th>12</th>\n",
       "      <td>Vistas del sol 30 30</td>\n",
       "      <td>1050</td>\n",
       "      <td>4990000</td>\n",
       "    </tr>\n",
       "    <tr>\n",
       "      <th>13</th>\n",
       "      <td>Paseo del Carnero</td>\n",
       "      <td>452</td>\n",
       "      <td>3840000</td>\n",
       "    </tr>\n",
       "    <tr>\n",
       "      <th>14</th>\n",
       "      <td>Paseo del Puma , Fraccionamiento Bugambilias, ...</td>\n",
       "      <td>398</td>\n",
       "      <td>3986200</td>\n",
       "    </tr>\n",
       "    <tr>\n",
       "      <th>15</th>\n",
       "      <td>Paseo del Carnero</td>\n",
       "      <td>411</td>\n",
       "      <td>3495000</td>\n",
       "    </tr>\n",
       "    <tr>\n",
       "      <th>16</th>\n",
       "      <td>Av. Paseo del Carnero</td>\n",
       "      <td>720</td>\n",
       "      <td>5980000</td>\n",
       "    </tr>\n",
       "    <tr>\n",
       "      <th>17</th>\n",
       "      <td>Callejon del Iris</td>\n",
       "      <td>440</td>\n",
       "      <td>3300000</td>\n",
       "    </tr>\n",
       "    <tr>\n",
       "      <th>18</th>\n",
       "      <td></td>\n",
       "      <td>1290</td>\n",
       "      <td>7482000</td>\n",
       "    </tr>\n",
       "    <tr>\n",
       "      <th>19</th>\n",
       "      <td>Paseo de las Gacelas</td>\n",
       "      <td>583</td>\n",
       "      <td>4372500</td>\n",
       "    </tr>\n",
       "  </tbody>\n",
       "</table>\n",
       "</div>"
      ],
      "text/plain": [
       "                                            Ubicacion Área(m²) Precio(mx)\n",
       "0     VILLA JUAREZ # 1695 LA AVELLANA ZAPOPAN JALISCO      278    2780000\n",
       "1                                  Av. Del Búfalo 418      495    4699000\n",
       "2                               2da sección, (villas)      552    4400000\n",
       "3                              Bosques de bugambilias      699    5100000\n",
       "4                           Av. Azaleas, Coto La Joya      454    5700000\n",
       "5                                                          406    4060000\n",
       "6                                 PASEO DEL PUMA 3056      563    5250000\n",
       "7   Del Reno Poniente #villas 6 - 19 esq. con Entr...      400    3600000\n",
       "8                                        bugambilias       715    5460000\n",
       "9                                                         1247    8500000\n",
       "10                                  Remanso del Coati      580    4350000\n",
       "11                             Privada Paseo Del Iris      315    3600000\n",
       "12                               Vistas del sol 30 30     1050    4990000\n",
       "13                                  Paseo del Carnero      452    3840000\n",
       "14  Paseo del Puma , Fraccionamiento Bugambilias, ...      398    3986200\n",
       "15                                  Paseo del Carnero      411    3495000\n",
       "16                              Av. Paseo del Carnero      720    5980000\n",
       "17                                  Callejon del Iris      440    3300000\n",
       "18                                                        1290    7482000\n",
       "19                               Paseo de las Gacelas      583    4372500"
      ]
     },
     "execution_count": 30,
     "metadata": {},
     "output_type": "execute_result"
    }
   ],
   "source": [
    "df"
   ]
  },
  {
   "cell_type": "markdown",
   "metadata": {},
   "source": [
    "guardamos el df en un archivo csv"
   ]
  },
  {
   "cell_type": "code",
   "execution_count": null,
   "metadata": {},
   "outputs": [],
   "source": [
    "df.to_csv(\"terrenos bugambilias.csv\", index=False, encoding=\"utf-8\")"
   ]
  },
  {
   "cell_type": "markdown",
   "metadata": {},
   "source": [
    "ya podemos trabajar con los datos!"
   ]
  }
 ],
 "metadata": {
  "kernelspec": {
   "display_name": "Python 3.10.8 64-bit (microsoft store)",
   "language": "python",
   "name": "python3"
  },
  "language_info": {
   "codemirror_mode": {
    "name": "ipython",
    "version": 3
   },
   "file_extension": ".py",
   "mimetype": "text/x-python",
   "name": "python",
   "nbconvert_exporter": "python",
   "pygments_lexer": "ipython3",
   "version": "3.10.8"
  },
  "orig_nbformat": 4,
  "vscode": {
   "interpreter": {
    "hash": "24cb59c2cc197bd1f2722fa439534c4fa24671147bf227b67ac67c1d0468d56f"
   }
  }
 },
 "nbformat": 4,
 "nbformat_minor": 2
}
